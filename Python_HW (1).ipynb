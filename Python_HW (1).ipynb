{
  "nbformat": 4,
  "nbformat_minor": 0,
  "metadata": {
    "colab": {
      "provenance": []
    },
    "kernelspec": {
      "name": "python3",
      "display_name": "Python 3"
    },
    "language_info": {
      "name": "python"
    }
  },
  "cells": [
    {
      "cell_type": "code",
      "execution_count": null,
      "metadata": {
        "colab": {
          "base_uri": "https://localhost:8080/"
        },
        "id": "ELVo8abxbeW7",
        "outputId": "34c021a3-c592-4ed3-816d-09160061a734"
      },
      "outputs": [
        {
          "output_type": "stream",
          "name": "stdout",
          "text": [
            "1\n",
            "2\n",
            "3\n",
            "4\n",
            "5\n",
            "6\n",
            "7\n",
            "8\n",
            "9\n",
            "10\n"
          ]
        }
      ],
      "source": [
        "#1. print the first 10 natural numbers using for loop\n",
        "for i in range(1,11):\n",
        "\n",
        "  print(i)"
      ]
    },
    {
      "cell_type": "code",
      "source": [
        "#2. python program to print all the even numbers with in the given range\n",
        "\n",
        "for i in range(1,21):\n",
        "  if i%2==0:\n",
        "    print(i)"
      ],
      "metadata": {
        "colab": {
          "base_uri": "https://localhost:8080/"
        },
        "id": "g4N7L-Rjb2J0",
        "outputId": "b0ae9e63-ccf0-41d1-ea47-3d2698e0cd7d"
      },
      "execution_count": null,
      "outputs": [
        {
          "output_type": "stream",
          "name": "stdout",
          "text": [
            "2\n",
            "4\n",
            "6\n",
            "8\n",
            "10\n",
            "12\n",
            "14\n",
            "16\n",
            "18\n",
            "20\n"
          ]
        }
      ]
    },
    {
      "cell_type": "code",
      "source": [
        "#3. python program to calculate the sum of all numbers from 1 to given number\n",
        "\n",
        "x = range(1,21)\n",
        "sum = 0\n",
        "for i in x:\n",
        "  sum = sum + i\n",
        "print(sum)"
      ],
      "metadata": {
        "colab": {
          "base_uri": "https://localhost:8080/"
        },
        "id": "1dlVtYU7ccJo",
        "outputId": "577a9617-7a95-4727-f09d-a918d217f73f"
      },
      "execution_count": null,
      "outputs": [
        {
          "output_type": "stream",
          "name": "stdout",
          "text": [
            "range(1, 21)\n",
            "210\n"
          ]
        }
      ]
    },
    {
      "cell_type": "code",
      "source": [
        "#4. python programe to calculate the sum of all the odd numbers within the given range\n",
        "\n",
        "x = range(1,20)\n",
        "sum = 0\n",
        "for i in x:\n",
        "  if i%2 != 0:\n",
        "    sum = sum + i\n",
        "print(sum)\n",
        "\n"
      ],
      "metadata": {
        "colab": {
          "base_uri": "https://localhost:8080/"
        },
        "id": "TmUCop9wdDtS",
        "outputId": "d9283c24-40e7-4a40-a540-e833bfd86c95"
      },
      "execution_count": null,
      "outputs": [
        {
          "output_type": "stream",
          "name": "stdout",
          "text": [
            "100\n"
          ]
        }
      ]
    },
    {
      "cell_type": "code",
      "source": [
        "#5. python program to print a multiplication program of a given number\n",
        "num = int(input('enter a number: '))\n",
        "def table(x):\n",
        "  for i in range(1,11):\n",
        "    r = num * i\n",
        "    print(num,'x',i,'=',r)\n",
        "\n",
        "table(num)\n",
        "\n"
      ],
      "metadata": {
        "colab": {
          "base_uri": "https://localhost:8080/"
        },
        "id": "_lWsdcd5fHac",
        "outputId": "2a62d8ff-89b3-4a07-f081-2413b7f06126"
      },
      "execution_count": null,
      "outputs": [
        {
          "output_type": "stream",
          "name": "stdout",
          "text": [
            "enter a number: 5\n",
            "5 x 1 = 5\n",
            "5 x 2 = 10\n",
            "5 x 3 = 15\n",
            "5 x 4 = 20\n",
            "5 x 5 = 25\n",
            "5 x 6 = 30\n",
            "5 x 7 = 35\n",
            "5 x 8 = 40\n",
            "5 x 9 = 45\n",
            "5 x 10 = 50\n"
          ]
        }
      ]
    },
    {
      "cell_type": "code",
      "source": [
        "#6. python program to display numbners from a list using a for loop\n",
        "\n",
        "l1 = [1,2,3,4,5,6]\n",
        "\n",
        "for i in l1:\n",
        "  print(i)\n",
        "\n"
      ],
      "metadata": {
        "colab": {
          "base_uri": "https://localhost:8080/"
        },
        "id": "MOfMlcNliOxN",
        "outputId": "5801354f-5478-4809-8592-4c9ed9fb6c8a"
      },
      "execution_count": null,
      "outputs": [
        {
          "output_type": "stream",
          "name": "stdout",
          "text": [
            "1\n",
            "2\n",
            "3\n",
            "4\n",
            "5\n",
            "6\n"
          ]
        }
      ]
    },
    {
      "cell_type": "code",
      "source": [
        "#7. python program to count the total number of digits in a number\n",
        "num = int(input('enter numbers: '))\n",
        "\n",
        "l = len(str(num))\n",
        "print(l)\n",
        "\n",
        "\n",
        "\n"
      ],
      "metadata": {
        "id": "RC918bIgoWOK",
        "colab": {
          "base_uri": "https://localhost:8080/"
        },
        "outputId": "f7304a4b-29d8-47a1-cba5-86fcb3cfc226"
      },
      "execution_count": null,
      "outputs": [
        {
          "output_type": "stream",
          "name": "stdout",
          "text": [
            "enter numbers: 145623\n",
            "6\n"
          ]
        }
      ]
    },
    {
      "cell_type": "code",
      "source": [
        "num = int(input('enter numbers: '))\n",
        "def count(x):\n",
        "  print(len(str(x)))\n",
        "\n",
        "count(num)\n",
        "\n"
      ],
      "metadata": {
        "colab": {
          "base_uri": "https://localhost:8080/"
        },
        "id": "WWNddZYBuDcr",
        "outputId": "031801e9-6c31-45cd-96c6-663eafc3b5f3"
      },
      "execution_count": null,
      "outputs": [
        {
          "output_type": "stream",
          "name": "stdout",
          "text": [
            "enter numbers: 123654789\n",
            "9\n"
          ]
        }
      ]
    },
    {
      "cell_type": "code",
      "source": [
        "#8. write a  Python program to check if the given string is palindrome?\n",
        "def guna(string):\n",
        "  string = string.replace(\" \",\"\").lower()\n",
        "  return string == string[::-1]\n",
        "num = input('enter a string: ')\n",
        "if guna(num):\n",
        "  print('it is a palindrome')\n",
        "else:\n",
        "  print('it is not a palindrome')"
      ],
      "metadata": {
        "colab": {
          "base_uri": "https://localhost:8080/"
        },
        "id": "83M66g6Gx9wm",
        "outputId": "a99f52c2-f6b2-4198-fb2d-3c8c438d2a81"
      },
      "execution_count": null,
      "outputs": [
        {
          "output_type": "stream",
          "name": "stdout",
          "text": [
            "enter a string: madam\n",
            "it is a palindrome\n"
          ]
        }
      ]
    },
    {
      "cell_type": "code",
      "source": [
        "#9. Python program to count the number of even and odd numbers from a series of numbers\n",
        "def main(numbers):\n",
        "  evn_num=0\n",
        "  odd_num=0\n",
        "  for i in numbers:\n",
        "    if i%2==0:\n",
        "      evn_num += 1\n",
        "    else:\n",
        "      odd_num += 1\n",
        "  return(evn_num , odd_num)\n",
        "l1 = [1,2,3,4,5,6,7,8,9,10]\n",
        "even,odd = main(l1)\n",
        "print('num of even = ',even)\n",
        "print('num of odd = ',odd)"
      ],
      "metadata": {
        "id": "sbMEQbunwRTW",
        "colab": {
          "base_uri": "https://localhost:8080/"
        },
        "outputId": "0ba20b79-e742-4619-d28a-fecbc05daf18"
      },
      "execution_count": null,
      "outputs": [
        {
          "output_type": "stream",
          "name": "stdout",
          "text": [
            "num of even =  5\n",
            "num of odd =  5\n"
          ]
        }
      ]
    },
    {
      "cell_type": "code",
      "source": [
        "#10. Python program to display all numbers within a range except the prime numbers.\n",
        "\n",
        "for i in range(1,100):\n",
        "  for j in range(2,i):\n",
        "    if i%j==0:\n",
        "      print(i)\n",
        "      break"
      ],
      "metadata": {
        "id": "xsLz9N570ZRI",
        "colab": {
          "base_uri": "https://localhost:8080/"
        },
        "outputId": "a3427381-9891-4651-9711-cc21db504fba"
      },
      "execution_count": null,
      "outputs": [
        {
          "output_type": "stream",
          "name": "stdout",
          "text": [
            "4\n",
            "6\n",
            "8\n",
            "9\n",
            "10\n",
            "12\n",
            "14\n",
            "15\n",
            "16\n",
            "18\n",
            "20\n",
            "21\n",
            "22\n",
            "24\n",
            "25\n",
            "26\n",
            "27\n",
            "28\n",
            "30\n",
            "32\n",
            "33\n",
            "34\n",
            "35\n",
            "36\n",
            "38\n",
            "39\n",
            "40\n",
            "42\n",
            "44\n",
            "45\n",
            "46\n",
            "48\n",
            "49\n",
            "50\n",
            "51\n",
            "52\n",
            "54\n",
            "55\n",
            "56\n",
            "57\n",
            "58\n",
            "60\n",
            "62\n",
            "63\n",
            "64\n",
            "65\n",
            "66\n",
            "68\n",
            "69\n",
            "70\n",
            "72\n",
            "74\n",
            "75\n",
            "76\n",
            "77\n",
            "78\n",
            "80\n",
            "81\n",
            "82\n",
            "84\n",
            "85\n",
            "86\n",
            "87\n",
            "88\n",
            "90\n",
            "91\n",
            "92\n",
            "93\n",
            "94\n",
            "95\n",
            "96\n",
            "98\n",
            "99\n"
          ]
        }
      ]
    },
    {
      "cell_type": "code",
      "source": [
        "#11.Python program to get the Fibonacci series between 0 to 50.\n",
        "\n",
        "n = 50\n",
        "sum = 0\n",
        "i1,i2=0,1\n",
        "for i in range(0,n):\n",
        "  sum = i1 + i2\n",
        "  i1 =i2\n",
        "  i2 = sum\n",
        "  print(sum)"
      ],
      "metadata": {
        "colab": {
          "base_uri": "https://localhost:8080/"
        },
        "id": "ZqRQkH2lmy6j",
        "outputId": "9be24b2b-6380-4b7a-dded-5e22c867326c"
      },
      "execution_count": null,
      "outputs": [
        {
          "output_type": "stream",
          "name": "stdout",
          "text": [
            "1\n",
            "2\n",
            "3\n",
            "5\n",
            "8\n",
            "13\n",
            "21\n",
            "34\n",
            "55\n",
            "89\n",
            "144\n",
            "233\n",
            "377\n",
            "610\n",
            "987\n",
            "1597\n",
            "2584\n",
            "4181\n",
            "6765\n",
            "10946\n",
            "17711\n",
            "28657\n",
            "46368\n",
            "75025\n",
            "121393\n",
            "196418\n",
            "317811\n",
            "514229\n",
            "832040\n",
            "1346269\n",
            "2178309\n",
            "3524578\n",
            "5702887\n",
            "9227465\n",
            "14930352\n",
            "24157817\n",
            "39088169\n",
            "63245986\n",
            "102334155\n",
            "165580141\n",
            "267914296\n",
            "433494437\n",
            "701408733\n",
            "1134903170\n",
            "1836311903\n",
            "2971215073\n",
            "4807526976\n",
            "7778742049\n",
            "12586269025\n",
            "20365011074\n"
          ]
        }
      ]
    },
    {
      "cell_type": "code",
      "source": [
        "#12. Python program to find the factorial of a given number.\n",
        "a=1\n",
        "for i in range(10,0,-1):\n",
        "  a = a *i\n",
        "print(a)"
      ],
      "metadata": {
        "colab": {
          "base_uri": "https://localhost:8080/"
        },
        "id": "UQN3gL1W7_xw",
        "outputId": "a671a5de-0216-4816-cd6f-c70c2e3586b0"
      },
      "execution_count": null,
      "outputs": [
        {
          "output_type": "stream",
          "name": "stdout",
          "text": [
            "3628800\n"
          ]
        }
      ]
    },
    {
      "cell_type": "markdown",
      "source": [
        "**METHODS**"
      ],
      "metadata": {
        "id": "9hT5bTJpBeFh"
      }
    },
    {
      "cell_type": "code",
      "source": [
        "#1.Write a Python function to find the maximum of three numbers.\n",
        "a = 10\n",
        "b = 20\n",
        "c = 30\n",
        "def main(x,y,z):\n",
        "  maximum = max(x,y,z)\n",
        "  return maximum\n",
        "\n",
        "main(a,b,c)\n",
        "\n"
      ],
      "metadata": {
        "colab": {
          "base_uri": "https://localhost:8080/"
        },
        "id": "JFwZ7NzUBo5h",
        "outputId": "95ba4be8-cdd1-4e5f-b922-66d639b809ed"
      },
      "execution_count": null,
      "outputs": [
        {
          "output_type": "execute_result",
          "data": {
            "text/plain": [
              "30"
            ]
          },
          "metadata": {},
          "execution_count": 4
        }
      ]
    },
    {
      "cell_type": "code",
      "source": [
        "#2. Write a Python function to sum all the numbers in a list.\n",
        "\n",
        "def main(numbers):\n",
        "  total = sum(numbers)\n",
        "  return total\n",
        "\n",
        "list = [1,2,3,4,5]\n",
        "result = main(list)\n",
        "print(result)"
      ],
      "metadata": {
        "colab": {
          "base_uri": "https://localhost:8080/"
        },
        "id": "ENjvbybjE2cL",
        "outputId": "8e0a5f16-48eb-4285-9ad4-403df9d86447"
      },
      "execution_count": null,
      "outputs": [
        {
          "output_type": "stream",
          "name": "stdout",
          "text": [
            "15\n"
          ]
        }
      ]
    },
    {
      "cell_type": "code",
      "source": [
        "#2. Write a Python function to sum all the numbers in a list.\n",
        "def main(a):\n",
        "  sum = 0\n",
        "  for i in a:\n",
        "    sum += i\n",
        "  print(sum)\n",
        "x = [1,2,3,4,5,6,7,8,9,10]\n",
        "main(x)\n",
        "\n",
        "\n"
      ],
      "metadata": {
        "colab": {
          "base_uri": "https://localhost:8080/"
        },
        "id": "NOyOzw4hJmiV",
        "outputId": "7b4c6555-46e8-442b-e099-15199d8b928b"
      },
      "execution_count": null,
      "outputs": [
        {
          "output_type": "stream",
          "name": "stdout",
          "text": [
            "55\n"
          ]
        }
      ]
    },
    {
      "cell_type": "code",
      "source": [
        "#3.Write a Python function to multiply all the numbers in a list.\n",
        "def main(a):\n",
        "  s = 1\n",
        "  for i in a:\n",
        "    s *= i\n",
        "  return s\n",
        "x = [1,2,3,4,5]\n",
        "main(x)\n"
      ],
      "metadata": {
        "colab": {
          "base_uri": "https://localhost:8080/"
        },
        "id": "QL_0UjB3Ljd1",
        "outputId": "997ccab0-65bc-4293-9102-2c04394f19eb"
      },
      "execution_count": null,
      "outputs": [
        {
          "output_type": "execute_result",
          "data": {
            "text/plain": [
              "120"
            ]
          },
          "metadata": {},
          "execution_count": 25
        }
      ]
    },
    {
      "cell_type": "code",
      "source": [
        "#4. Write a Python program to reverse a string.\n",
        "\n",
        "def main(a):\n",
        "  b = ''\n",
        "  for i in a:\n",
        "    print(b)\n",
        "    b = i + b\n",
        "  print(b)\n",
        "x = 'hello world'\n",
        "main(x)\n",
        "\n",
        "\n",
        "\n",
        "\n"
      ],
      "metadata": {
        "colab": {
          "base_uri": "https://localhost:8080/"
        },
        "id": "7tlZ9iUaN7JY",
        "outputId": "b062bb31-f15a-49de-c045-2d966eebafa6"
      },
      "execution_count": null,
      "outputs": [
        {
          "output_type": "stream",
          "name": "stdout",
          "text": [
            "\n",
            "h\n",
            "eh\n",
            "leh\n",
            "lleh\n",
            "olleh\n",
            " olleh\n",
            "w olleh\n",
            "ow olleh\n",
            "row olleh\n",
            "lrow olleh\n",
            "dlrow olleh\n"
          ]
        }
      ]
    },
    {
      "cell_type": "code",
      "source": [],
      "metadata": {
        "id": "BtkHgQNkP_mh"
      },
      "execution_count": null,
      "outputs": []
    }
  ]
}