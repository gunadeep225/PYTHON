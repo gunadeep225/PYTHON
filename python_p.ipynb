{
  "nbformat": 4,
  "nbformat_minor": 0,
  "metadata": {
    "colab": {
      "provenance": []
    },
    "kernelspec": {
      "name": "python3",
      "display_name": "Python 3"
    },
    "language_info": {
      "name": "python"
    }
  },
  "cells": [
    {
      "cell_type": "markdown",
      "source": [
        "Comments"
      ],
      "metadata": {
        "id": "m0-MRGIlpqxf"
      }
    },
    {
      "cell_type": "code",
      "source": [
        "# this is guna student in QT"
      ],
      "metadata": {
        "id": "xjtRHntXprsE"
      },
      "execution_count": null,
      "outputs": []
    },
    {
      "cell_type": "markdown",
      "source": [
        "Basics - Print Functions"
      ],
      "metadata": {
        "id": "a5dzmbSqp4iy"
      }
    },
    {
      "cell_type": "code",
      "source": [
        "print('hello world')"
      ],
      "metadata": {
        "colab": {
          "base_uri": "https://localhost:8080/"
        },
        "id": "1Ij4Ee-gp8N0",
        "outputId": "117a9b3b-390b-4658-c237-2bf4acc44747"
      },
      "execution_count": null,
      "outputs": [
        {
          "output_type": "stream",
          "name": "stdout",
          "text": [
            "hello world\n"
          ]
        }
      ]
    },
    {
      "cell_type": "code",
      "source": [
        "apples = 10\n",
        "mangoes = 20\n",
        "print(f'i have {apples} apples and {mangoes} mangoes')"
      ],
      "metadata": {
        "colab": {
          "base_uri": "https://localhost:8080/"
        },
        "id": "-knTyKMMqG6g",
        "outputId": "49051c03-c3c5-4169-bbf3-3e7c6269618d"
      },
      "execution_count": null,
      "outputs": [
        {
          "output_type": "stream",
          "name": "stdout",
          "text": [
            "i have 10 apples and 20 mangoes\n"
          ]
        }
      ]
    },
    {
      "cell_type": "markdown",
      "source": [
        "Arithemtic Operations"
      ],
      "metadata": {
        "id": "UN1q8qaxqfe0"
      }
    },
    {
      "cell_type": "code",
      "source": [
        "print(10+320)"
      ],
      "metadata": {
        "colab": {
          "base_uri": "https://localhost:8080/"
        },
        "id": "C39tq2dLqgpy",
        "outputId": "60fef2ee-560e-419e-b4f3-7cc5453a11c5"
      },
      "execution_count": null,
      "outputs": [
        {
          "output_type": "stream",
          "name": "stdout",
          "text": [
            "330\n"
          ]
        }
      ]
    },
    {
      "cell_type": "code",
      "source": [
        "print(10/3)"
      ],
      "metadata": {
        "colab": {
          "base_uri": "https://localhost:8080/"
        },
        "id": "ZxR-zc8lqoG7",
        "outputId": "5435aa25-c2cb-40fe-e3a3-8daf9d281524"
      },
      "execution_count": null,
      "outputs": [
        {
          "output_type": "stream",
          "name": "stdout",
          "text": [
            "3.3333333333333335\n"
          ]
        }
      ]
    },
    {
      "cell_type": "code",
      "source": [
        "print(10//3)"
      ],
      "metadata": {
        "colab": {
          "base_uri": "https://localhost:8080/"
        },
        "id": "Da6_gqnOqscD",
        "outputId": "9fd9c00a-9ae8-43c0-a572-eee0c84b6775"
      },
      "execution_count": null,
      "outputs": [
        {
          "output_type": "stream",
          "name": "stdout",
          "text": [
            "3\n"
          ]
        }
      ]
    },
    {
      "cell_type": "code",
      "source": [
        "print(20-13)"
      ],
      "metadata": {
        "colab": {
          "base_uri": "https://localhost:8080/"
        },
        "id": "U_3vlriWqwTt",
        "outputId": "fc4bd647-e511-40a1-e8b2-f7181aff1cd4"
      },
      "execution_count": null,
      "outputs": [
        {
          "output_type": "stream",
          "name": "stdout",
          "text": [
            "7\n"
          ]
        }
      ]
    },
    {
      "cell_type": "code",
      "source": [
        "print(5*4)"
      ],
      "metadata": {
        "colab": {
          "base_uri": "https://localhost:8080/"
        },
        "id": "uiyyKZnNq0gp",
        "outputId": "5544bdba-4ee0-45d5-b369-af7ce00212d9"
      },
      "execution_count": null,
      "outputs": [
        {
          "output_type": "stream",
          "name": "stdout",
          "text": [
            "20\n"
          ]
        }
      ]
    },
    {
      "cell_type": "markdown",
      "source": [
        "Lists in Python"
      ],
      "metadata": {
        "id": "OEfgkZfaq8NT"
      }
    },
    {
      "cell_type": "code",
      "source": [
        "l1 = [1,3,7,6,78,53,90]\n",
        "l2 = ['guna','sam','queen','rook']\n",
        "l3 = [1,3,'guna',6,8,'bishub']"
      ],
      "metadata": {
        "id": "VbyUaef3rAby"
      },
      "execution_count": null,
      "outputs": []
    },
    {
      "cell_type": "code",
      "source": [
        "l3"
      ],
      "metadata": {
        "colab": {
          "base_uri": "https://localhost:8080/"
        },
        "id": "7zFOHcgJr1D7",
        "outputId": "5c8e40ce-0b38-4037-a6ad-65a402e1b354"
      },
      "execution_count": null,
      "outputs": [
        {
          "output_type": "execute_result",
          "data": {
            "text/plain": [
              "[1, 3, 'guna', 6, 8, 'bishub']"
            ]
          },
          "metadata": {},
          "execution_count": 11
        }
      ]
    },
    {
      "cell_type": "code",
      "source": [
        "#1. Print a string \"Dog kills a cat\"\n",
        "print(\"Dog kills a cat\")\n"
      ],
      "metadata": {
        "colab": {
          "base_uri": "https://localhost:8080/"
        },
        "id": "-gRLjOU2r3yJ",
        "outputId": "d69578e8-d830-4016-c37a-720310e273de"
      },
      "execution_count": null,
      "outputs": [
        {
          "output_type": "stream",
          "name": "stdout",
          "text": [
            "Dog kills a cat\n"
          ]
        }
      ]
    },
    {
      "cell_type": "code",
      "source": [
        "#2. Assign a variable to your name and print \"My name is ?\"\n",
        "x = 'guna'\n",
        "print('my name is', x)"
      ],
      "metadata": {
        "colab": {
          "base_uri": "https://localhost:8080/"
        },
        "id": "7J_sDIwBskI2",
        "outputId": "eee945de-c3f4-4835-d6ad-a34d0f955524"
      },
      "execution_count": null,
      "outputs": [
        {
          "output_type": "stream",
          "name": "stdout",
          "text": [
            "my name is guna\n"
          ]
        }
      ]
    },
    {
      "cell_type": "code",
      "source": [
        "#3. Caluculate 5+14-6*2\n",
        "\n",
        "x=5+14-6*2\n",
        "print(x)"
      ],
      "metadata": {
        "colab": {
          "base_uri": "https://localhost:8080/"
        },
        "id": "k3wHbfCksyit",
        "outputId": "9aa6530e-f04c-419a-d89d-05d067ae28d9"
      },
      "execution_count": null,
      "outputs": [
        {
          "output_type": "stream",
          "name": "stdout",
          "text": [
            "7\n"
          ]
        }
      ]
    },
    {
      "cell_type": "code",
      "source": [
        "#4. Create a list of numbers 1 to 10\n",
        "l = list(range(1,11))\n",
        "print(l)"
      ],
      "metadata": {
        "colab": {
          "base_uri": "https://localhost:8080/"
        },
        "id": "igrA0yK1tRzO",
        "outputId": "4de4f031-335c-4663-a4e3-75d7089b3267"
      },
      "execution_count": null,
      "outputs": [
        {
          "output_type": "stream",
          "name": "stdout",
          "text": [
            "[1, 2, 3, 4, 5, 6, 7, 8, 9, 10]\n"
          ]
        }
      ]
    },
    {
      "cell_type": "code",
      "source": [
        "#5. create a list of 5 names\n",
        "m = ['ravi','guna','sam','john','pavan']\n",
        "print(m)"
      ],
      "metadata": {
        "colab": {
          "base_uri": "https://localhost:8080/"
        },
        "id": "NDH-u-tktgMe",
        "outputId": "fab96cf0-5492-403e-9278-a93c6fa01faf"
      },
      "execution_count": null,
      "outputs": [
        {
          "output_type": "stream",
          "name": "stdout",
          "text": [
            "['ravi', 'guna', 'sam', 'john', 'pavan']\n"
          ]
        }
      ]
    },
    {
      "cell_type": "code",
      "source": [
        "#6. create a list of 4 names and 3 numbers\n",
        "l3 = [1,3,'guna',6,'horse','rook','bishub']\n",
        "print(l3)"
      ],
      "metadata": {
        "colab": {
          "base_uri": "https://localhost:8080/"
        },
        "id": "GF3iHaCct5gU",
        "outputId": "1303c2f7-5d08-4786-b04a-09922d985176"
      },
      "execution_count": null,
      "outputs": [
        {
          "output_type": "stream",
          "name": "stdout",
          "text": [
            "[1, 3, 'guna', 6, 'horse', 'rook', 'bishub']\n"
          ]
        }
      ]
    },
    {
      "cell_type": "code",
      "source": [
        "city_name = 'hyderabad'\n",
        "print(f'im living in {city_name}')"
      ],
      "metadata": {
        "colab": {
          "base_uri": "https://localhost:8080/"
        },
        "id": "QAuQtVItHL2l",
        "outputId": "c7696022-a4f2-4ac1-b0c3-a5f01467b859"
      },
      "execution_count": null,
      "outputs": [
        {
          "output_type": "stream",
          "name": "stdout",
          "text": [
            "im living in hyderabad\n"
          ]
        }
      ]
    },
    {
      "cell_type": "markdown",
      "source": [
        "\n",
        "For Loop\n"
      ],
      "metadata": {
        "id": "fn8xAZnyJXAX"
      }
    },
    {
      "cell_type": "code",
      "source": [
        "l1 = ['Manikanta','ajay','ravi','kiran']\n",
        "for i in l1:\n",
        "  print(i)"
      ],
      "metadata": {
        "colab": {
          "base_uri": "https://localhost:8080/"
        },
        "id": "VNHPMTXIJUxq",
        "outputId": "ed2978ec-ea43-471b-b3e2-447fd7b1f50a"
      },
      "execution_count": null,
      "outputs": [
        {
          "output_type": "stream",
          "name": "stdout",
          "text": [
            "Manikanta\n",
            "ajay\n",
            "ravi\n",
            "kiran\n"
          ]
        }
      ]
    },
    {
      "cell_type": "code",
      "source": [
        "#1. create  a list of 5 names and print those names\n",
        "l1 = ['arvind','vijay','ajay','ravi','guna']\n",
        "for i in l1:\n",
        "  print(i)"
      ],
      "metadata": {
        "colab": {
          "base_uri": "https://localhost:8080/"
        },
        "id": "VzDCcsdwJvK_",
        "outputId": "9e9dd76d-69fa-4d77-b1c8-adacd0308e4d"
      },
      "execution_count": null,
      "outputs": [
        {
          "output_type": "stream",
          "name": "stdout",
          "text": [
            "arvind\n",
            "vijay\n",
            "ajay\n",
            "ravi\n",
            "guna\n"
          ]
        }
      ]
    },
    {
      "cell_type": "code",
      "source": [
        "#2. create a list of 3 numbers and multiply with 3 and add with 1\n",
        "l1 = [1,23,20]\n",
        "for i in l1:\n",
        "  print(i*3+1)"
      ],
      "metadata": {
        "colab": {
          "base_uri": "https://localhost:8080/"
        },
        "id": "I7f5XznKKMhX",
        "outputId": "11ae3abd-9d2f-4601-8123-4b8b4a9b7307"
      },
      "execution_count": null,
      "outputs": [
        {
          "output_type": "stream",
          "name": "stdout",
          "text": [
            "4\n",
            "70\n",
            "61\n"
          ]
        }
      ]
    },
    {
      "cell_type": "code",
      "source": [
        "#3. create a list on 5 odd numbers divide with 2\n",
        "l1 = [3,5,7,9,11]\n",
        "for i in l1:\n",
        "  print(i/2)"
      ],
      "metadata": {
        "colab": {
          "base_uri": "https://localhost:8080/"
        },
        "id": "6pnc58WYKhQk",
        "outputId": "082fad23-8963-4b47-9935-9890de1fa020"
      },
      "execution_count": null,
      "outputs": [
        {
          "output_type": "stream",
          "name": "stdout",
          "text": [
            "1.5\n",
            "2.5\n",
            "3.5\n",
            "4.5\n",
            "5.5\n"
          ]
        }
      ]
    },
    {
      "cell_type": "code",
      "source": [
        "s1 = \"ajay\"\n",
        "s2 = \"kiran\"\n",
        "print(s1+\" \"+s2)"
      ],
      "metadata": {
        "colab": {
          "base_uri": "https://localhost:8080/"
        },
        "id": "Sm4EozPVKww4",
        "outputId": "e4c31592-636d-49b4-c6c6-c713648040c5"
      },
      "execution_count": null,
      "outputs": [
        {
          "output_type": "stream",
          "name": "stdout",
          "text": [
            "ajay kiran\n"
          ]
        }
      ]
    },
    {
      "cell_type": "code",
      "source": [
        "# For loop to combine words into a sentence\n",
        "l1 = [\"dog\",\"kills\",\"a\",\"cat\"]\n",
        "sent = \"\"\n",
        "for i in l1:\n",
        "  sent= sent+\" \"+i\n",
        "print(sent)"
      ],
      "metadata": {
        "colab": {
          "base_uri": "https://localhost:8080/"
        },
        "id": "ZkZE2PgmLJXA",
        "outputId": "2353dd49-98bb-4e81-e8e6-88c5a750dd98"
      },
      "execution_count": null,
      "outputs": [
        {
          "output_type": "stream",
          "name": "stdout",
          "text": [
            " dog kills a cat\n"
          ]
        }
      ]
    },
    {
      "cell_type": "code",
      "source": [
        "l1 = [\"India\",\"is\",\"my\",\"country\",\"and\",\"all\",\"indians\",\"are\",\"my\",\"brothers\",\"and\",\"sisters\"]\n",
        "sent = \"\"\n",
        "for i in l1:\n",
        "  sent = sent+\" \"+i\n",
        "print(sent)"
      ],
      "metadata": {
        "colab": {
          "base_uri": "https://localhost:8080/"
        },
        "id": "oF2GRsJeLv24",
        "outputId": "91fcf643-13b3-4d07-f3f2-9a8ca2b87ec9"
      },
      "execution_count": null,
      "outputs": [
        {
          "output_type": "stream",
          "name": "stdout",
          "text": [
            " India is my country and all indians are my brothers and sisters\n"
          ]
        }
      ]
    },
    {
      "cell_type": "code",
      "source": [
        "numbers = [1,2,3,4,5,6,7,8]\n",
        "for x in numbers:\n",
        "    print(x*x)"
      ],
      "metadata": {
        "colab": {
          "base_uri": "https://localhost:8080/"
        },
        "id": "qXTYnF62MDcB",
        "outputId": "b560de54-4752-4f47-af63-5025fb2ae5c2"
      },
      "execution_count": null,
      "outputs": [
        {
          "output_type": "stream",
          "name": "stdout",
          "text": [
            "1\n",
            "4\n",
            "9\n",
            "16\n",
            "25\n",
            "36\n",
            "49\n",
            "64\n"
          ]
        }
      ]
    },
    {
      "cell_type": "markdown",
      "source": [
        "while loop\n"
      ],
      "metadata": {
        "id": "AMiW43ziMSu8"
      }
    },
    {
      "cell_type": "code",
      "source": [
        "x = 0\n",
        "while x<6:\n",
        "\n",
        "  print(x)\n",
        "  x += 1"
      ],
      "metadata": {
        "colab": {
          "base_uri": "https://localhost:8080/"
        },
        "id": "mUujoPo1MUwj",
        "outputId": "10b60df2-ef9e-4384-917c-cd5b31d0e5e1"
      },
      "execution_count": null,
      "outputs": [
        {
          "output_type": "stream",
          "name": "stdout",
          "text": [
            "0\n",
            "1\n",
            "2\n",
            "3\n",
            "4\n",
            "5\n"
          ]
        }
      ]
    },
    {
      "cell_type": "code",
      "source": [
        "x = 0\n",
        "while x<10:\n",
        "  x+=1\n",
        "  if x==5:\n",
        "    continue\n",
        "  if x ==7:\n",
        "    continue\n",
        "  print(x)\n",
        ""
      ],
      "metadata": {
        "colab": {
          "base_uri": "https://localhost:8080/"
        },
        "id": "eP62pfeQMy9G",
        "outputId": "65f72f04-ceb1-4a42-c5bd-b9179f37f7b3"
      },
      "execution_count": null,
      "outputs": [
        {
          "output_type": "stream",
          "name": "stdout",
          "text": [
            "1\n",
            "2\n",
            "3\n",
            "4\n",
            "6\n",
            "8\n",
            "9\n",
            "10\n"
          ]
        }
      ]
    },
    {
      "cell_type": "code",
      "source": [
        "l1 = [1,2,3,4,5,6,7,8,9,10]\n",
        "for i in l1:\n",
        "  if (i%2 == 0):\n",
        "    print(i)\n",
        "\n",
        "\n",
        "  else:\n",
        "    print (\"not a even\")"
      ],
      "metadata": {
        "colab": {
          "base_uri": "https://localhost:8080/"
        },
        "id": "liquRvfxNdyR",
        "outputId": "eb6abcc2-6e53-4b98-f39d-8e193e4ff3b5"
      },
      "execution_count": null,
      "outputs": [
        {
          "output_type": "stream",
          "name": "stdout",
          "text": [
            "not a even\n",
            "2\n",
            "not a even\n",
            "4\n",
            "not a even\n",
            "6\n",
            "not a even\n",
            "8\n",
            "not a even\n",
            "10\n"
          ]
        }
      ]
    },
    {
      "cell_type": "code",
      "source": [
        "l1 =[\"aditya\",\"venu\",\"girija\",\"srikanth\"]\n",
        "for i in l1:\n",
        "  if (i == 'aditya'):\n",
        "     print(i)\n",
        "  else:\n",
        "     print (\"not in l1\")"
      ],
      "metadata": {
        "colab": {
          "base_uri": "https://localhost:8080/"
        },
        "id": "OBNRL4ykNv8i",
        "outputId": "5a69d31d-8feb-4dcf-fc0b-d41272a68d8d"
      },
      "execution_count": null,
      "outputs": [
        {
          "output_type": "stream",
          "name": "stdout",
          "text": [
            "aditya\n",
            "not in l1\n",
            "not in l1\n",
            "not in l1\n"
          ]
        }
      ]
    },
    {
      "cell_type": "code",
      "source": [
        "l1 =[1,2,3,4,5,\"aditya\",\"kiran\"]\n",
        "for i in l1:\n",
        "  if (i=='aditya'):\n",
        "    print(i)\n",
        "  elif (i==\"kiran\"):\n",
        "    print(i)\n",
        "  else:\n",
        "    print(\"not a word\")"
      ],
      "metadata": {
        "colab": {
          "base_uri": "https://localhost:8080/"
        },
        "id": "w2VcT7yqODBw",
        "outputId": "80fa8bcb-0859-4684-dbe3-1744030f5cd8"
      },
      "execution_count": null,
      "outputs": [
        {
          "output_type": "stream",
          "name": "stdout",
          "text": [
            "not a word\n",
            "not a word\n",
            "not a word\n",
            "not a word\n",
            "not a word\n",
            "aditya\n",
            "kiran\n"
          ]
        }
      ]
    },
    {
      "cell_type": "code",
      "source": [
        "l1 = [1,2,3,4,5]\n",
        "sum = 0\n",
        "for i in l1:\n",
        "  sum = sum + i\n",
        "print(sum)"
      ],
      "metadata": {
        "colab": {
          "base_uri": "https://localhost:8080/"
        },
        "id": "kcPxmjwYOJ3P",
        "outputId": "8f654767-cfad-457d-be77-ef7c12159c56"
      },
      "execution_count": null,
      "outputs": [
        {
          "output_type": "stream",
          "name": "stdout",
          "text": [
            "15\n"
          ]
        }
      ]
    },
    {
      "cell_type": "code",
      "source": [
        "# Print even numbers from the list\n",
        "l1 = [2,3,4,5,6]\n",
        "for i in l1:\n",
        "  if i%2==0:\n",
        "    print(i)\n",
        "  else:\n",
        "    print('not an even')"
      ],
      "metadata": {
        "colab": {
          "base_uri": "https://localhost:8080/"
        },
        "id": "4DNRRbcbPzaD",
        "outputId": "e1b661ff-0764-4cc3-bb36-d4aacfc42c6d"
      },
      "execution_count": null,
      "outputs": [
        {
          "output_type": "stream",
          "name": "stdout",
          "text": [
            "2\n",
            "not an even\n",
            "4\n",
            "not an even\n",
            "6\n"
          ]
        }
      ]
    },
    {
      "cell_type": "code",
      "source": [
        "#print only strings not numbers\n",
        "\n",
        "l1 = [1,2,3,'ajay','ravi']\n",
        "for i in l1:\n",
        "  if i == 'ajay':\n",
        "    print(i)\n",
        "  elif i == 'ravi':\n",
        "    print(i)\n",
        "  else:\n",
        "    print('not a string')"
      ],
      "metadata": {
        "colab": {
          "base_uri": "https://localhost:8080/"
        },
        "id": "uhE7wWGjQKZl",
        "outputId": "66b88a2f-bbdc-404b-b253-6a892ae417cb"
      },
      "execution_count": null,
      "outputs": [
        {
          "output_type": "stream",
          "name": "stdout",
          "text": [
            "not a string\n",
            "not a string\n",
            "not a string\n",
            "ajay\n",
            "ravi\n"
          ]
        }
      ]
    },
    {
      "cell_type": "code",
      "source": [
        "l1 = [1,2,3,'pavan','guna']\n",
        "\n",
        "for i in l1:\n",
        "  i = str(i)\n",
        "  if len(i)>1:\n",
        "    print(i)\n",
        "  else:\n",
        "    print('number')"
      ],
      "metadata": {
        "colab": {
          "base_uri": "https://localhost:8080/"
        },
        "id": "AnLBe-L4RKpV",
        "outputId": "897af6f4-9fc9-4ee7-df60-46f31e64bfb5"
      },
      "execution_count": null,
      "outputs": [
        {
          "output_type": "stream",
          "name": "stdout",
          "text": [
            "number\n",
            "number\n",
            "number\n",
            "pavan\n",
            "guna\n"
          ]
        }
      ]
    },
    {
      "cell_type": "code",
      "source": [
        "l1 = [[1,2,3],[4,5]]\n",
        "\n",
        "for i in l1:\n",
        "  for j in i:\n",
        "    if (j % 2 == 0):\n",
        "      print (j)"
      ],
      "metadata": {
        "id": "4SJ6EInxSWkD",
        "outputId": "ebbb8055-6620-409b-90cf-d48eaec5f756",
        "colab": {
          "base_uri": "https://localhost:8080/"
        }
      },
      "execution_count": null,
      "outputs": [
        {
          "output_type": "stream",
          "name": "stdout",
          "text": [
            "2\n",
            "4\n"
          ]
        }
      ]
    },
    {
      "cell_type": "code",
      "source": [
        "x = 'im intrested to learn python'\n",
        "n = len(x)\n",
        "print(n)\n",
        "\n",
        "if len(x)<20:\n",
        "  print(\"matches\")\n",
        "else:\n",
        "  print(\"not matches\")"
      ],
      "metadata": {
        "colab": {
          "base_uri": "https://localhost:8080/"
        },
        "id": "BbJFL463_tYD",
        "outputId": "997a6fc5-9207-4957-ccd8-275ab99a1e02"
      },
      "execution_count": null,
      "outputs": [
        {
          "output_type": "stream",
          "name": "stdout",
          "text": [
            "28\n",
            "not matches\n"
          ]
        }
      ]
    },
    {
      "cell_type": "code",
      "source": [
        "#write a function compare the string if it is india you have to print l1 if it is america l2\n",
        "def main(a,b,c,d):\n",
        "\n",
        "  if c == 'India':\n",
        "    print(a)\n",
        "  else:\n",
        "    print(b)\n",
        "l1 = [1,2,3,4,5]\n",
        "l2 = [4,5,6,7]\n",
        "\n",
        "x = 'India'\n",
        "y = 'America'\n",
        "main(l1,l2,x,y)"
      ],
      "metadata": {
        "colab": {
          "base_uri": "https://localhost:8080/"
        },
        "id": "ExhMcWhuAbZI",
        "outputId": "20070cfd-2505-46dc-ecca-63f250be5435"
      },
      "execution_count": null,
      "outputs": [
        {
          "output_type": "stream",
          "name": "stdout",
          "text": [
            "[1, 2, 3, 4, 5]\n"
          ]
        }
      ]
    },
    {
      "cell_type": "code",
      "source": [
        "'''l1 = [1,2,3,4,5,6]\n",
        "c = True\n",
        "if c is true print sum of l1\n",
        "else print no sum'''\n",
        "\n",
        "l1 = [1,2,3,4,5,6]\n",
        "c = False\n",
        "\n",
        "def main(a,b):\n",
        "\n",
        "  if c == True:\n",
        "    SUM = sum(l1)\n",
        "    print(SUM)\n",
        "  else:\n",
        "    print('no sum')\n",
        "main(l1,c)\n",
        "\n",
        "\n"
      ],
      "metadata": {
        "colab": {
          "base_uri": "https://localhost:8080/"
        },
        "id": "yN7ACIenCJU_",
        "outputId": "4c4df06e-f184-4cc1-bc5d-a173d42f6189"
      },
      "execution_count": null,
      "outputs": [
        {
          "output_type": "stream",
          "name": "stdout",
          "text": [
            "no sum\n"
          ]
        }
      ]
    },
    {
      "cell_type": "code",
      "source": [
        "#create a list of numbers from 1 to 10 and write a method to print sum of odd and even numbers\n",
        "\n",
        "def main(x):\n",
        "  e_sum=0\n",
        "  o_sum=0\n",
        "  for i in x:\n",
        "    if i%2 == 0:\n",
        "      e_sum = e_sum + i\n",
        "    else:\n",
        "      o_sum = o_sum + i\n",
        "  print(e_sum)\n",
        "  print(o_sum)\n",
        "\n",
        "l1 = [i for i in range(1,11)]\n",
        "main(l1)\n"
      ],
      "metadata": {
        "colab": {
          "base_uri": "https://localhost:8080/"
        },
        "id": "QhHo7ug8E1UN",
        "outputId": "38e94b7d-99a4-432d-aa70-32185a267903"
      },
      "execution_count": null,
      "outputs": [
        {
          "output_type": "stream",
          "name": "stdout",
          "text": [
            "30\n",
            "25\n"
          ]
        }
      ]
    },
    {
      "cell_type": "code",
      "source": [
        "#createa list of numbers divisible by 5 from 10 to 100\n",
        "#and then function to find the sum of values divisible to 10\n",
        "\n",
        "l1=[]\n",
        "for i in range(10,101):\n",
        "  if i%5==0:\n",
        "    l1.append(i)\n",
        "print(l1)\n",
        "sum = 0\n",
        "for i in l1:\n",
        "  if i%10 == 0:\n",
        "    sum = sum + i\n",
        "print(sum)\n"
      ],
      "metadata": {
        "colab": {
          "base_uri": "https://localhost:8080/"
        },
        "id": "kQ6j_7vOHh36",
        "outputId": "07b8b499-ef16-4b16-f33a-ade77bd90a7c"
      },
      "execution_count": null,
      "outputs": [
        {
          "output_type": "stream",
          "name": "stdout",
          "text": [
            "[10, 15, 20, 25, 30, 35, 40, 45, 50, 55, 60, 65, 70, 75, 80, 85, 90, 95, 100]\n",
            "550\n"
          ]
        }
      ]
    },
    {
      "cell_type": "code",
      "source": [
        "#create a list of 5 names and write a function to combine those\n",
        "def main(x):\n",
        "\n",
        "  l1 = ['guna','pavan','Tom','MKC','Nandu']\n",
        "  sent=''\n",
        "  for i in l1:\n",
        "    sent=sent+\" \"+i\n",
        "  print(sent)\n",
        "main(l1)\n"
      ],
      "metadata": {
        "colab": {
          "base_uri": "https://localhost:8080/"
        },
        "id": "A5dn2mq_KeA6",
        "outputId": "a527b6ee-e4cf-4853-ef6c-44fc5522b7da"
      },
      "execution_count": null,
      "outputs": [
        {
          "output_type": "stream",
          "name": "stdout",
          "text": [
            " guna pavan Tom MKC Nandu\n"
          ]
        }
      ]
    },
    {
      "cell_type": "markdown",
      "source": [
        "data types"
      ],
      "metadata": {
        "id": "XZUQBROzMsdV"
      }
    },
    {
      "cell_type": "code",
      "source": [
        "x = 10\n",
        "type(x)"
      ],
      "metadata": {
        "colab": {
          "base_uri": "https://localhost:8080/"
        },
        "id": "kkdKnHNZMbDl",
        "outputId": "05073d21-41b6-4e02-c797-f71536fa002a"
      },
      "execution_count": null,
      "outputs": [
        {
          "output_type": "execute_result",
          "data": {
            "text/plain": [
              "int"
            ]
          },
          "metadata": {},
          "execution_count": 36
        }
      ]
    },
    {
      "cell_type": "code",
      "source": [
        "x = 10.5\n",
        "type(x)"
      ],
      "metadata": {
        "colab": {
          "base_uri": "https://localhost:8080/"
        },
        "id": "_oMrMyBwM12o",
        "outputId": "8cf4fdb5-93c2-42c7-bada-864c16a3c7b9"
      },
      "execution_count": null,
      "outputs": [
        {
          "output_type": "execute_result",
          "data": {
            "text/plain": [
              "float"
            ]
          },
          "metadata": {},
          "execution_count": 37
        }
      ]
    },
    {
      "cell_type": "code",
      "source": [
        "l1 = [1,2,3,4,5]\n",
        "type(l1)"
      ],
      "metadata": {
        "colab": {
          "base_uri": "https://localhost:8080/"
        },
        "id": "gl2cGCuyM7MZ",
        "outputId": "d444a15f-648c-48c3-ec71-e649d1fb016a"
      },
      "execution_count": null,
      "outputs": [
        {
          "output_type": "execute_result",
          "data": {
            "text/plain": [
              "list"
            ]
          },
          "metadata": {},
          "execution_count": 38
        }
      ]
    },
    {
      "cell_type": "code",
      "source": [
        "name = 'guna'\n",
        "type(name)"
      ],
      "metadata": {
        "colab": {
          "base_uri": "https://localhost:8080/"
        },
        "id": "Ha9p7bp6M9uP",
        "outputId": "6bb65fde-304e-4dc7-d235-dafbdf0ad523"
      },
      "execution_count": null,
      "outputs": [
        {
          "output_type": "execute_result",
          "data": {
            "text/plain": [
              "str"
            ]
          },
          "metadata": {},
          "execution_count": 39
        }
      ]
    },
    {
      "cell_type": "markdown",
      "source": [
        "Indexing"
      ],
      "metadata": {
        "id": "OH03qw2zNFpC"
      }
    },
    {
      "cell_type": "code",
      "source": [
        "l1 = [1,2,3,4,5]\n",
        "l1[0]"
      ],
      "metadata": {
        "colab": {
          "base_uri": "https://localhost:8080/"
        },
        "id": "Z4bjCLPYNGrC",
        "outputId": "669a8d97-5ea6-4a51-e791-4dc33f4d86e8"
      },
      "execution_count": null,
      "outputs": [
        {
          "output_type": "execute_result",
          "data": {
            "text/plain": [
              "1"
            ]
          },
          "metadata": {},
          "execution_count": 40
        }
      ]
    },
    {
      "cell_type": "code",
      "source": [
        "l1[3]"
      ],
      "metadata": {
        "colab": {
          "base_uri": "https://localhost:8080/"
        },
        "id": "cP9KGx5ZNM0H",
        "outputId": "ec677785-20c6-4fe2-e6ce-371afdb300f2"
      },
      "execution_count": null,
      "outputs": [
        {
          "output_type": "execute_result",
          "data": {
            "text/plain": [
              "4"
            ]
          },
          "metadata": {},
          "execution_count": 41
        }
      ]
    },
    {
      "cell_type": "code",
      "source": [
        "l1 = [2,8,10,12,4,5,6]\n",
        "l1[2:5]\n"
      ],
      "metadata": {
        "colab": {
          "base_uri": "https://localhost:8080/"
        },
        "id": "1ilrp14jNP62",
        "outputId": "a8e8b9b1-cdb4-4c50-dc70-5109c11b8a3c"
      },
      "execution_count": null,
      "outputs": [
        {
          "output_type": "execute_result",
          "data": {
            "text/plain": [
              "[10, 12, 4]"
            ]
          },
          "metadata": {},
          "execution_count": 44
        }
      ]
    },
    {
      "cell_type": "code",
      "source": [
        "l1[2:]"
      ],
      "metadata": {
        "colab": {
          "base_uri": "https://localhost:8080/"
        },
        "id": "TVx0_olNNhII",
        "outputId": "480183ba-1439-4121-9c68-839a4f3273ba"
      },
      "execution_count": null,
      "outputs": [
        {
          "output_type": "execute_result",
          "data": {
            "text/plain": [
              "[10, 12, 4, 5, 6]"
            ]
          },
          "metadata": {},
          "execution_count": 45
        }
      ]
    },
    {
      "cell_type": "code",
      "source": [
        "l1[1],l1[4]"
      ],
      "metadata": {
        "colab": {
          "base_uri": "https://localhost:8080/"
        },
        "id": "V46Df7rwNl2U",
        "outputId": "2a1f825c-a31d-4392-99d9-46fa30c3bb7d"
      },
      "execution_count": null,
      "outputs": [
        {
          "output_type": "execute_result",
          "data": {
            "text/plain": [
              "(8, 4)"
            ]
          },
          "metadata": {},
          "execution_count": 46
        }
      ]
    },
    {
      "cell_type": "code",
      "source": [
        "x = 'dog kills a cat'\n",
        "x[10]"
      ],
      "metadata": {
        "colab": {
          "base_uri": "https://localhost:8080/",
          "height": 36
        },
        "id": "IHx2gOT_NsEJ",
        "outputId": "9da84a90-52e1-46a2-bcc3-79041a3c52b7"
      },
      "execution_count": null,
      "outputs": [
        {
          "output_type": "execute_result",
          "data": {
            "text/plain": [
              "'a'"
            ],
            "application/vnd.google.colaboratory.intrinsic+json": {
              "type": "string"
            }
          },
          "metadata": {},
          "execution_count": 49
        }
      ]
    },
    {
      "cell_type": "code",
      "source": [
        "'''\n",
        "Python code to create a list of numbers from 10 to 100\n",
        "create a string 'Data Science Course' = l2\n",
        "method to print position 5 if divisible by 5 else print position 6\n",
        "'''\n",
        "\n",
        "l1=[i for i in range(10,101)]\n",
        "l2 = 'Data Science Course'\n",
        "print(l1)\n",
        "def main(x,y):\n",
        "  for i in x:\n",
        "    if i%5==0:\n",
        "      print(y[5])\n",
        "    else:\n",
        "      print(y[6])\n",
        "main(l1,l2)"
      ],
      "metadata": {
        "colab": {
          "base_uri": "https://localhost:8080/"
        },
        "id": "-9kVmv4nN600",
        "outputId": "bd2018c3-d04f-4e11-bec4-5fb179cb51b8"
      },
      "execution_count": null,
      "outputs": [
        {
          "output_type": "stream",
          "name": "stdout",
          "text": [
            "[10, 11, 12, 13, 14, 15, 16, 17, 18, 19, 20, 21, 22, 23, 24, 25, 26, 27, 28, 29, 30, 31, 32, 33, 34, 35, 36, 37, 38, 39, 40, 41, 42, 43, 44, 45, 46, 47, 48, 49, 50, 51, 52, 53, 54, 55, 56, 57, 58, 59, 60, 61, 62, 63, 64, 65, 66, 67, 68, 69, 70, 71, 72, 73, 74, 75, 76, 77, 78, 79, 80, 81, 82, 83, 84, 85, 86, 87, 88, 89, 90, 91, 92, 93, 94, 95, 96, 97, 98, 99, 100]\n",
            "S\n",
            "c\n",
            "c\n",
            "c\n",
            "c\n",
            "S\n",
            "c\n",
            "c\n",
            "c\n",
            "c\n",
            "S\n",
            "c\n",
            "c\n",
            "c\n",
            "c\n",
            "S\n",
            "c\n",
            "c\n",
            "c\n",
            "c\n",
            "S\n",
            "c\n",
            "c\n",
            "c\n",
            "c\n",
            "S\n",
            "c\n",
            "c\n",
            "c\n",
            "c\n",
            "S\n",
            "c\n",
            "c\n",
            "c\n",
            "c\n",
            "S\n",
            "c\n",
            "c\n",
            "c\n",
            "c\n",
            "S\n",
            "c\n",
            "c\n",
            "c\n",
            "c\n",
            "S\n",
            "c\n",
            "c\n",
            "c\n",
            "c\n",
            "S\n",
            "c\n",
            "c\n",
            "c\n",
            "c\n",
            "S\n",
            "c\n",
            "c\n",
            "c\n",
            "c\n",
            "S\n",
            "c\n",
            "c\n",
            "c\n",
            "c\n",
            "S\n",
            "c\n",
            "c\n",
            "c\n",
            "c\n",
            "S\n",
            "c\n",
            "c\n",
            "c\n",
            "c\n",
            "S\n",
            "c\n",
            "c\n",
            "c\n",
            "c\n",
            "S\n",
            "c\n",
            "c\n",
            "c\n",
            "c\n",
            "S\n",
            "c\n",
            "c\n",
            "c\n",
            "c\n",
            "S\n"
          ]
        }
      ]
    },
    {
      "cell_type": "code",
      "source": [],
      "metadata": {
        "id": "1BXYSgkXPM93"
      },
      "execution_count": null,
      "outputs": []
    }
  ]
}